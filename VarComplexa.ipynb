{
 "cells": [
  {
   "cell_type": "code",
   "execution_count": null,
   "metadata": {
    "colab": {
     "base_uri": "https://localhost:8080/"
    },
    "id": "_ri7Z8ZBkTcE",
    "outputId": "020e64d1-f4ed-4814-e25c-525af918fe8a"
   },
   "outputs": [
    {
     "name": "stdout",
     "output_type": "stream",
     "text": [
      "Requirement already satisfied: sympy in /usr/local/lib/python3.7/dist-packages (1.7.1)\n",
      "Requirement already satisfied: mpmath>=0.19 in /usr/local/lib/python3.7/dist-packages (from sympy) (1.2.1)\n"
     ]
    }
   ],
   "source": [
    "!pip install sympy"
   ]
  },
  {
   "cell_type": "code",
   "execution_count": null,
   "metadata": {
    "colab": {
     "base_uri": "https://localhost:8080/"
    },
    "id": "a2JP5pWmsNNp",
    "outputId": "265a0773-2ea4-4b46-d0f9-92be7e2345af"
   },
   "outputs": [
    {
     "name": "stdout",
     "output_type": "stream",
     "text": [
      "Requirement already satisfied: numexpr in /usr/local/lib/python3.7/dist-packages (2.8.1)\n",
      "Requirement already satisfied: numpy>=1.13.3 in /usr/local/lib/python3.7/dist-packages (from numexpr) (1.19.5)\n",
      "Requirement already satisfied: packaging in /usr/local/lib/python3.7/dist-packages (from numexpr) (21.3)\n",
      "Requirement already satisfied: pyparsing!=3.0.5,>=2.0.2 in /usr/local/lib/python3.7/dist-packages (from packaging->numexpr) (3.0.6)\n"
     ]
    }
   ],
   "source": [
    "!pip install numexpr"
   ]
  },
  {
   "cell_type": "code",
   "execution_count": null,
   "metadata": {
    "id": "isBBlhensqnC"
   },
   "outputs": [],
   "source": [
    "import numpy as np\n",
    "import numexpr as ne"
   ]
  },
  {
   "cell_type": "code",
   "execution_count": null,
   "metadata": {
    "id": "UH3CjmA1lcvj"
   },
   "outputs": [],
   "source": [
    "from math import *\n",
    "from sympy import *\n",
    "from cmath import *"
   ]
  },
  {
   "cell_type": "code",
   "execution_count": null,
   "metadata": {
    "id": "s85nqOHXSjmj"
   },
   "outputs": [],
   "source": [
    "#from numpy import *\n",
    "import matplotlib.pyplot as plt"
   ]
  },
  {
   "cell_type": "code",
   "execution_count": null,
   "metadata": {
    "id": "9GJEkGpjksZ_"
   },
   "outputs": [],
   "source": [
    "z = symbols('z')\n",
    "init_printing(use_unicode = True)"
   ]
  },
  {
   "cell_type": "markdown",
   "metadata": {
    "id": "jExYpovMpL4V"
   },
   "source": [
    "# <center/> <font color='cian'>**Função para calcular resíduos:**</font> </center>\n"
   ]
  },
  {
   "cell_type": "markdown",
   "metadata": {
    "id": "SOCZd4S5aPFa"
   },
   "source": [
    "<center>Fórmula dos resíduos:</center>\n",
    "$$\\underset{z=z_0}{Res} f(z) = \\dfrac{1}{(m-1)!}\\lim\\limits_{z\\to z_0}\\dfrac{d^{m-1}}{dz^{m-1}}(z-z_0)^mf(z)$$\n"
   ]
  },
  {
   "cell_type": "code",
   "execution_count": null,
   "metadata": {
    "id": "9ByY7MM4nMV8"
   },
   "outputs": [],
   "source": [
    "def func(f, m, z0): #f-função em termos de z; m-ordem de um polo; z0-polo\n",
    "  derivada = diff((z-z0)**m*f, z, m-1) #Deriva m-1 vezes a expressão (z-z0)^m*f(z) em termos de z\n",
    "  limite = limit(derivada, z, z0) #Calcula o limite da derivada com z tendendo a z0\n",
    "  resultado = (factorial(m-1))**(-1)*limite #O resultado final é o limite calculado dividido pelo fatorial de m-1\n",
    "  return resultado"
   ]
  },
  {
   "cell_type": "markdown",
   "metadata": {
    "id": "TCqhE2byrGed"
   },
   "source": [
    "# <center/> <font color='cian'>**Função para cálculo da integral de f(z) em C através da soma de resíduos:**</font> </center>"
   ]
  },
  {
   "cell_type": "markdown",
   "metadata": {
    "id": "GKKT9cGoop1F"
   },
   "source": [
    "<center>Teorema dos resíduos de Cauchy:</center>\n",
    "$$\\int_{C}f(z)dz = 2\\pi i\\sum\\limits_{k=1}^n\\underset{z=z_k}{Res}f(z)$$"
   ]
  },
  {
   "cell_type": "code",
   "execution_count": null,
   "metadata": {
    "id": "o3e8Lb8D0xMG"
   },
   "outputs": [],
   "source": [
    "def integraltr(f, pole_list, order_list, center, radius): #pole_list-lista com os polos de f; order_list-lista com as ordens dos polos; center-centro do contorno C; radius-raio de C\n",
    "  residuessum = [] #Lista para armazenar os valores dos resíduos\n",
    "  for i in range(len(pole_list)):\n",
    "    distance = sqrt((pole_list[i].real - center.real)**2 + (pole_list[i].imag - center.imag)**2) #Distância euclidiana entre o centro de C e o i-ésimo polo \n",
    "    if(distance.real < radius): #Verificar se o polo está no interior de C\n",
    "      residuessum.append(func(f, order_list[i], pole_list[i])) #Calcula o resíduo de f(z) para o i-ésimo polo considerando sua ordem e armazena o resultado\n",
    "  return 2j*pi*sum(residuessum) #Retorna a integral através da soma dos resíduos de f(z) dentro de C"
   ]
  },
  {
   "cell_type": "markdown",
   "metadata": {
    "id": "rlWsYZ24UDgQ"
   },
   "source": [
    "# <center/> <font color='cian'>**Função para análise gráfica:**</font> </center>"
   ]
  },
  {
   "cell_type": "code",
   "execution_count": null,
   "metadata": {
    "id": "B4XgUOC-SqXG"
   },
   "outputs": [],
   "source": [
    "def draw(polos, centro, raio):\n",
    "    xf=[]\n",
    "    xd=[]\n",
    "    yf=[]\n",
    "    yd=[]\n",
    "      \n",
    "    # extract real part\n",
    "    x = [ele.real for ele in polos]\n",
    "    # extract imaginary part\n",
    "    y = [ele.imag for ele in polos]\n",
    "    xc,yc = centro.real,centro.imag\n",
    "    for i in range(len(polos)):\n",
    "      distance = sqrt((x[i] - xc)**2 + (y[i] - yc)**2)\n",
    "      if(distance < raio):\n",
    "        xd.append(x[i])\n",
    "        yd.append(y[i])\n",
    "      else:\n",
    "        xf.append(x[i])\n",
    "        yf.append(y[i])\n",
    "    plt.axis(\"equal\")\n",
    "    plt.grid()\n",
    "    plt.scatter(xf,yf,c=\"red\")  \n",
    "    plt.scatter(xd,yd,c=\"blue\")  \n",
    "    n = 64\n",
    "    t = np.linspace(0,2*pi,n+1)\n",
    "    xcirc = raio*np.cos(t)+xc\n",
    "    ycirc = raio*np.sin(t)+yc\n",
    "    plt.plot(xcirc,ycirc,c=\"cyan\")\n",
    "    plt.scatter(xc,yc,c='black')"
   ]
  },
  {
   "cell_type": "code",
   "execution_count": null,
   "metadata": {
    "id": "5HndffonRQpq"
   },
   "outputs": [],
   "source": []
  },
  {
   "cell_type": "markdown",
   "metadata": {
    "id": "UPK_1ag1vVS9"
   },
   "source": [
    "# <center/> <font color='orange'>**Resolvendo problemas através do teorema dos resíduos:**</font> </center>"
   ]
  },
  {
   "cell_type": "code",
   "execution_count": null,
   "metadata": {
    "colab": {
     "base_uri": "https://localhost:8080/"
    },
    "id": "rEcJNOssx3no",
    "outputId": "d7b18019-afc5-4013-9d3c-8c3e6508f90d"
   },
   "outputs": [
    {
     "name": "stdout",
     "output_type": "stream",
     "text": [
      "Digite a função: (z**4+1)/(2*I*z**2*(1-0.5*z)*(z-0.5))\n",
      "Digite o número de polos da função: 3\n",
      "Digite o valor do polo 1: 0+0j\n",
      "Digite o valor da ordem do polo 1: 2\n",
      "Digite o valor do polo 2: 2+0j\n",
      "Digite o valor da ordem do polo 2: 1\n",
      "Digite o valor do polo 3: 0.5+0j\n",
      "Digite o valor da ordem do polo 3: 1\n",
      "Digite o valor do raio de C: 1\n",
      "Digite o valor do centro de C: 0+0j\n",
      "O valor da integral é: I = 2.09439510239319\n"
     ]
    }
   ],
   "source": [
    "ex = input('Digite a função: ')\n",
    "iteracoes = input('Digite o número de polos da função: ')\n",
    "iteracoes = sympify(iteracoes, evaluate=True) #Converte a função de string para uma expressão sympy \n",
    "\n",
    "pole = [] #Lista dos polos\n",
    "ordem = [] #Lista das ordens\n",
    "for i in range(iteracoes):\n",
    "  pole.append(input(f'Digite o valor do polo {i+1}: '))\n",
    "  ordem.append(input(f'Digite o valor da ordem do polo {i+1}: '))\n",
    "  pole[i] = complex(pole[i]) #Converte o polo de string para complexo\n",
    "  ordem[i] = int(ordem[i]) #Converte a ordem de string para inteiro\n",
    "raio = input('Digite o valor do raio de C: ')\n",
    "centro = input('Digite o valor do centro de C: ')\n",
    "centro = complex(centro) \n",
    "raio = sympify(raio, evaluate=True)\n",
    "ex1 = sympify(ex, evaluate=True)\n",
    "\n",
    "integral = integraltr(ex1, pole, ordem, centro, raio)\n",
    "print(f'O valor da integral é: I = {integral}')"
   ]
  },
  {
   "cell_type": "code",
   "execution_count": null,
   "metadata": {
    "colab": {
     "base_uri": "https://localhost:8080/",
     "height": 265
    },
    "id": "JEkeawSfSuFd",
    "outputId": "451d5927-144a-482b-cac8-294ae2c986a2"
   },
   "outputs": [
    {
     "data": {
      "image/png": "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\n",
      "text/plain": [
       "<Figure size 432x288 with 1 Axes>"
      ]
     },
     "metadata": {
      "needs_background": "light"
     },
     "output_type": "display_data"
    }
   ],
   "source": [
    "draw(pole,centro,raio)"
   ]
  },
  {
   "cell_type": "code",
   "execution_count": null,
   "metadata": {
    "id": "0jNhThFL2e7X"
   },
   "outputs": [],
   "source": [
    "expr1 = 1/(z**4*(z**4-16)*((3*z**2-48))**2)\n",
    "polos = [0+0j, 2+0j, -2+0j, 4+0j, -4+0j, 0+2j, 0-2j]\n",
    "ordens = [4, 1, 1, 2, 2, 1, 1]\n",
    "\n",
    "print(integraltr(expr1, polos, ordens, 3+0j, 1.5))"
   ]
  },
  {
   "cell_type": "code",
   "execution_count": null,
   "metadata": {
    "id": "Kjn_Xqu8eR_b"
   },
   "outputs": [],
   "source": [
    "# Digite a função: 3*(z+1)/(z*(z-1)*(z-3))\n",
    "# Digite o número de polos da função: 2\n",
    "# Digite o valor do polo 1: 0+0j\n",
    "# Digite o valor da ordem do polo 1: 1\n",
    "# Digite o valor do polo 2: 1+0j\n",
    "# Digite o valor da ordem do polo 2: 1\n",
    "# digite o valor do raio de C3\n",
    "# digite o valor do centro de C0+0j\n",
    "#-2\n",
    "\n",
    "# Digite a função: (4*z-5)/(z*(z-1))\n",
    "# Digite o número de polos da função: 2\n",
    "# Digite o valor do polo 1: 0+0j\n",
    "# Digite o valor da ordem do polo 1: 1\n",
    "# Digite o valor do polo 2: 1+0j\n",
    "# Digite o valor da ordem do polo 2: 1\n",
    "# digite o valor do raio de C2\n",
    "# digite o valor do centro de C0+0j\n",
    "# 4.00000000000000\n",
    "\n",
    "# Digite a função: 1/(z**4*(z**4-16)*((3*z**2-48))**2)\n",
    "# Digite o número de polos da função: 7\n",
    "# Digite o valor do polo 1: 0+0j\n",
    "# Digite o valor da ordem do polo 1: 4\n",
    "# Digite o valor do polo 2: 2+0j\n",
    "# Digite o valor da ordem do polo 2: 1\n",
    "# Digite o valor do polo 3: -2+0j\n",
    "# Digite o valor da ordem do polo 3: 1\n",
    "# Digite o valor do polo 4: 4+0j\n",
    "# Digite o valor da ordem do polo 4: 2\n",
    "# Digite o valor do polo 5: -4+0j\n",
    "# Digite o valor da ordem do polo 5: 2\n",
    "# Digite o valor do polo 6: 0+2j\n",
    "# Digite o valor da ordem do polo 6: 1\n",
    "# Digite o valor do polo 7: 0-2j\n",
    "# Digite o valor da ordem do polo 7: 1\n",
    "# Digite o valor do raio de C: 1.5\n",
    "# Digite o valor do centro de C: 3+0j\n",
    "# 9.05770677414727e-6*I\n",
    "\n",
    "# Digite a função: (z**4+1)/(2*I*z**2*(1-0.5*z)*(z-0.5))\n",
    "# Digite o número de polos da função: 3\n",
    "# Digite o valor do polo 1: 0+0j\n",
    "# Digite o valor da ordem do polo 1: 2\n",
    "# Digite o valor do polo 2: 2+0j\n",
    "# Digite o valor da ordem do polo 2: 1\n",
    "# Digite o valor do polo 3: 0.5+0j\n",
    "# Digite o valor da ordem do polo 3: 1\n",
    "# Digite o valor do raio de C: 1\n",
    "# Digite o valor do centro de C: 0+0j\n",
    "# O valor da integral é: I = 2.09439510239319"
   ]
  },
  {
   "cell_type": "code",
   "execution_count": 10,
   "metadata": {},
   "outputs": [
    {
     "name": "stderr",
     "output_type": "stream",
     "text": [
      "Exception in Tkinter callback\n",
      "Traceback (most recent call last):\n",
      "  File \"C:\\Users\\Magazine Luiza\\Anaconda3\\lib\\tkinter\\__init__.py\", line 1705, in __call__\n",
      "    return self.func(*args)\n",
      "  File \"<ipython-input-10-a771ebca8b0e>\", line 15, in click_multi\n",
      "    p_numero = float(primeiro_numero)\n",
      "ValueError: could not convert string to float: \n"
     ]
    }
   ],
  {
   "cell_type": "code",
   "execution_count": null,
   "metadata": {},
   "outputs": [],
   "source": []
  }
 ],
 "metadata": {
  "colab": {
   "collapsed_sections": [],
   "name": "VarComplexa.ipynb",
   "provenance": []
  },
  "kernelspec": {
   "display_name": "Python 3",
   "language": "python",
   "name": "python3"
  },
  "language_info": {
   "codemirror_mode": {
    "name": "ipython",
    "version": 3
   },
   "file_extension": ".py",
   "mimetype": "text/x-python",
   "name": "python",
   "nbconvert_exporter": "python",
   "pygments_lexer": "ipython3",
   "version": "3.7.4"
  }
 },
 "nbformat": 4,
 "nbformat_minor": 1
}
