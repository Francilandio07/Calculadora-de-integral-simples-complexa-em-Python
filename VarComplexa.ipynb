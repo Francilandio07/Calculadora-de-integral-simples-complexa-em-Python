{
  "nbformat": 4,
  "nbformat_minor": 0,
  "metadata": {
    "colab": {
      "name": "VarComplexa.ipynb",
      "provenance": [],
      "collapsed_sections": [
        "UMsbyB22i9uq"
      ]
    },
    "kernelspec": {
      "name": "python3",
      "display_name": "Python 3"
    },
    "language_info": {
      "name": "python"
    }
  },
  "cells": [
    {
      "cell_type": "markdown",
      "source": [
        "# <center/> <font color='orange'>**Instalando sympy e numexpr:**</font> </center>"
      ],
      "metadata": {
        "id": "awqVCA-hfQq2"
      }
    },
    {
      "cell_type": "code",
      "execution_count": null,
      "metadata": {
        "id": "_ri7Z8ZBkTcE"
      },
      "outputs": [],
      "source": [
        "!pip install sympy"
      ]
    },
    {
      "cell_type": "code",
      "source": [
        "!pip install numexpr"
      ],
      "metadata": {
        "id": "a2JP5pWmsNNp"
      },
      "execution_count": null,
      "outputs": []
    },
    {
      "cell_type": "markdown",
      "source": [
        "# <center/> <font color='red'>**Importação de bibliotecas:**</font> </center>"
      ],
      "metadata": {
        "id": "QDceQH2sfTcP"
      }
    },
    {
      "cell_type": "code",
      "source": [
        "import numpy as np\n",
        "import numexpr as ne\n",
        "import matplotlib.pyplot as plt\n",
        "\n",
        "from math import *\n",
        "from sympy import *\n",
        "from cmath import *\n",
        "\n",
        "z = symbols('z')\n",
        "init_printing(use_unicode = True)"
      ],
      "metadata": {
        "id": "isBBlhensqnC"
      },
      "execution_count": null,
      "outputs": []
    },
    {
      "cell_type": "markdown",
      "source": [
        "# <center/> <font color='cyan'>**Função para calcular resíduos:**</font> </center>\n"
      ],
      "metadata": {
        "id": "jExYpovMpL4V"
      }
    },
    {
      "cell_type": "markdown",
      "source": [
        "<center>Fórmula dos resíduos:</center>\n",
        "$$\\underset{z=z_0}{Res} f(z) = \\dfrac{1}{(m-1)!}\\lim\\limits_{z\\to z_0}\\dfrac{d^{m-1}}{dz^{m-1}}(z-z_0)^mf(z)$$\n"
      ],
      "metadata": {
        "id": "SOCZd4S5aPFa"
      }
    },
    {
      "cell_type": "code",
      "source": [
        "def func(f, m, z0): #f-função em termos de z; m-ordem de um polo; z0-polo\n",
        "  derivada = diff((z-z0)**m*f, z, m-1) #Deriva m-1 vezes a expressão (z-z0)^m*f(z) em termos de z\n",
        "  limite = limit(derivada, z, z0) #Calcula o limite da derivada com z tendendo a z0\n",
        "  resultado = (factorial(m-1))**(-1)*limite #O resultado final é o limite calculado dividido pelo fatorial de m-1\n",
        "  return resultado"
      ],
      "metadata": {
        "id": "9ByY7MM4nMV8"
      },
      "execution_count": null,
      "outputs": []
    },
    {
      "cell_type": "markdown",
      "source": [
        "# <center/> <font color='cyan'>**Função para cálculo da integral de f(z) em C através da soma de resíduos:**</font> </center>"
      ],
      "metadata": {
        "id": "TCqhE2byrGed"
      }
    },
    {
      "cell_type": "markdown",
      "source": [
        "<center>Teorema dos resíduos de Cauchy:</center>\n",
        "$$\\int_{C}f(z)dz = 2\\pi i\\sum\\limits_{k=1}^n\\underset{z=z_k}{Res}f(z)$$"
      ],
      "metadata": {
        "id": "GKKT9cGoop1F"
      }
    },
    {
      "cell_type": "code",
      "source": [
        "def integraltr(f, pole_list, order_list, center, radius): #pole_list-lista com os polos de f; order_list-lista com as ordens dos polos; center-centro do contorno C; radius-raio de C\n",
        "  residuessum = [] #Lista para armazenar os valores dos resíduos\n",
        "  for i in range(len(pole_list)):\n",
        "    distance = sqrt((pole_list[i].real - center.real)**2 + (pole_list[i].imag - center.imag)**2) #Distância euclidiana entre o centro de C e o i-ésimo polo \n",
        "    if(distance.real < radius): #Verificar se o polo está no interior de C\n",
        "      residuessum.append(func(f, order_list[i], pole_list[i])) #Calcula o resíduo de f(z) para o i-ésimo polo considerando sua ordem e armazena o resultado\n",
        "  return 2j*pi*sum(residuessum) #Retorna a integral através da soma dos resíduos de f(z) dentro de C"
      ],
      "metadata": {
        "id": "o3e8Lb8D0xMG"
      },
      "execution_count": null,
      "outputs": []
    },
    {
      "cell_type": "markdown",
      "source": [
        "#<center/> <font color='cyan'>**Função para análise gráfica:**</font> </center>"
      ],
      "metadata": {
        "id": "rlWsYZ24UDgQ"
      }
    },
    {
      "cell_type": "code",
      "source": [
        "def draw(polos, centro, raio):\n",
        "    xf=[]\n",
        "    xd=[]\n",
        "    yf=[]\n",
        "    yd=[]\n",
        "      \n",
        "    # extract real part\n",
        "    x = [ele.real for ele in polos]\n",
        "    # extract imaginary part\n",
        "    y = [ele.imag for ele in polos]\n",
        "    xc,yc = centro.real,centro.imag\n",
        "    for i in range(len(polos)):\n",
        "      distance = sqrt((x[i] - xc)**2 + (y[i] - yc)**2)\n",
        "      if(distance < raio):\n",
        "        xd.append(x[i])\n",
        "        yd.append(y[i])\n",
        "      else:\n",
        "        xf.append(x[i])\n",
        "        yf.append(y[i])\n",
        "    plt.axis(\"equal\")\n",
        "    plt.grid()\n",
        "    plt.scatter(xf,yf,c=\"red\")  \n",
        "    plt.scatter(xd,yd,c=\"blue\")  \n",
        "    n = 64\n",
        "    t = np.linspace(0,2*pi,n+1)\n",
        "    xcirc = raio*np.cos(t)+xc\n",
        "    ycirc = raio*np.sin(t)+yc\n",
        "    plt.plot(xcirc,ycirc,c=\"cyan\")"
      ],
      "metadata": {
        "id": "B4XgUOC-SqXG"
      },
      "execution_count": null,
      "outputs": []
    },
    {
      "cell_type": "markdown",
      "source": [
        "# <center/> <font color='cyan'>**Resolvendo problemas através do teorema dos resíduos:**</font> </center>"
      ],
      "metadata": {
        "id": "UPK_1ag1vVS9"
      }
    },
    {
      "cell_type": "markdown",
      "source": [
        "\n",
        "<center>Problema:</center>\n",
        "$$I = \\int_{C}\\dfrac{(z^4 + 1)}{2\\cdot i\\cdot z^2(1-0.5\\cdot z)(z - 0.5)}dz \\approx 2.09439$$"
      ],
      "metadata": {
        "id": "bzaEJoFWDEXd"
      }
    },
    {
      "cell_type": "code",
      "source": [
        "ex = input('Digite a função: ')\n",
        "iteracoes = input('Digite o número de polos da função: ')\n",
        "iteracoes = sympify(iteracoes, evaluate=True) #Converte a função de string para uma expressão sympy \n",
        "\n",
        "pole = [] #Lista dos polos\n",
        "ordem = [] #Lista das ordens\n",
        "for i in range(iteracoes):\n",
        "  pole.append(input(f'Digite o valor do polo {i+1}: '))\n",
        "  ordem.append(input(f'Digite o valor da ordem do polo {i+1}: '))\n",
        "  pole[i] = complex(pole[i]) #Converte o polo de string para complexo\n",
        "  ordem[i] = int(ordem[i]) #Converte a ordem de string para inteiro\n",
        "raio = input('Digite o valor do raio de C: ')\n",
        "centro = input('Digite o valor do centro de C: ')\n",
        "centro = complex(centro) \n",
        "raio = sympify(raio, evaluate=True)\n",
        "ex1 = sympify(ex, evaluate=True)\n",
        "\n",
        "integral = integraltr(ex1, pole, ordem, centro, raio)\n",
        "print(f'O valor da integral é: I = {integral}')\n",
        "\n",
        "#Ex: (z**4+1)/(2*I*z**2*(1-0.5*z)*(z-0.5))"
      ],
      "metadata": {
        "id": "rEcJNOssx3no",
        "colab": {
          "base_uri": "https://localhost:8080/"
        },
        "outputId": "1fbfdca6-e1ba-4a01-9ae4-410a9dd8ba00"
      },
      "execution_count": null,
      "outputs": [
        {
          "output_type": "stream",
          "name": "stdout",
          "text": [
            "Digite a função: (z**4+1)/(2*I*z**2*(1-0.5*z)*(z-0.5))\n",
            "Digite o número de polos da função: 3\n",
            "Digite o valor do polo 1: 0+0j\n",
            "Digite o valor da ordem do polo 1: 2\n",
            "Digite o valor do polo 2: 2+0j\n",
            "Digite o valor da ordem do polo 2: 1\n",
            "Digite o valor do polo 3: 0.5+0j\n",
            "Digite o valor da ordem do polo 3: 1\n",
            "Digite o valor do raio de C: 1\n",
            "Digite o valor do centro de C: 0+0j\n",
            "O valor da integral é: I = 2.09439510239319\n"
          ]
        }
      ]
    },
    {
      "cell_type": "code",
      "source": [
        "draw(pole,centro,raio)"
      ],
      "metadata": {
        "id": "JEkeawSfSuFd",
        "colab": {
          "base_uri": "https://localhost:8080/",
          "height": 265
        },
        "outputId": "b309bd99-92d0-4c33-8c45-58aaea537b26"
      },
      "execution_count": null,
      "outputs": [
        {
          "output_type": "display_data",
          "data": {
            "image/png": "[encoded data removed]",
            "text/plain": [
              "<Figure size 432x288 with 1 Axes>"
            ]
          },
          "metadata": {
            "needs_background": "light"
          }
        }
      ]
    },
    {
      "cell_type": "markdown",
      "source": [
        "# <center/> <font color='violet'>**Testes:**</font> </center>"
      ],
      "metadata": {
        "id": "UMsbyB22i9uq"
      }
    },
    {
      "cell_type": "code",
      "source": [
        "expr1 = 1/(z**4*(z**4-16)*((3*z**2-48))**2)\n",
        "polos = [0+0j, 2+0j, -2+0j, 4+0j, -4+0j, 0+2j, 0-2j]\n",
        "ordens = [4, 1, 1, 2, 2, 1, 1]\n",
        "\n",
        "print(integraltr(expr1, polos, ordens, 3+0j, 1.5))"
      ],
      "metadata": {
        "id": "0jNhThFL2e7X"
      },
      "execution_count": null,
      "outputs": []
    },
    {
      "cell_type": "code",
      "source": [
        "# Digite a função: 3*(z+1)/(z*(z-1)*(z-3))\n",
        "# Digite o número de polos da função: 2\n",
        "# Digite o valor do polo 1: 0+0j\n",
        "# Digite o valor da ordem do polo 1: 1\n",
        "# Digite o valor do polo 2: 1+0j\n",
        "# Digite o valor da ordem do polo 2: 1\n",
        "# digite o valor do raio de C3\n",
        "# digite o valor do centro de C0+0j\n",
        "#-2\n",
        "\n",
        "# Digite a função: (4*z-5)/(z*(z-1))\n",
        "# Digite o número de polos da função: 2\n",
        "# Digite o valor do polo 1: 0+0j\n",
        "# Digite o valor da ordem do polo 1: 1\n",
        "# Digite o valor do polo 2: 1+0j\n",
        "# Digite o valor da ordem do polo 2: 1\n",
        "# digite o valor do raio de C2\n",
        "# digite o valor do centro de C0+0j\n",
        "# 4.00000000000000\n",
        "\n",
        "# Digite a função: 1/(z**4*(z**4-16)*((3*z**2-48))**2)\n",
        "# Digite o número de polos da função: 7\n",
        "# Digite o valor do polo 1: 0+0j\n",
        "# Digite o valor da ordem do polo 1: 4\n",
        "# Digite o valor do polo 2: 2+0j\n",
        "# Digite o valor da ordem do polo 2: 1\n",
        "# Digite o valor do polo 3: -2+0j\n",
        "# Digite o valor da ordem do polo 3: 1\n",
        "# Digite o valor do polo 4: 4+0j\n",
        "# Digite o valor da ordem do polo 4: 2\n",
        "# Digite o valor do polo 5: -4+0j\n",
        "# Digite o valor da ordem do polo 5: 2\n",
        "# Digite o valor do polo 6: 0+2j\n",
        "# Digite o valor da ordem do polo 6: 1\n",
        "# Digite o valor do polo 7: 0-2j\n",
        "# Digite o valor da ordem do polo 7: 1\n",
        "# Digite o valor do raio de C: 1.5\n",
        "# Digite o valor do centro de C: 3+0j\n",
        "# 9.05770677414727e-6*I\n",
        "\n",
        "# Digite a função: (z**4+1)/(2*I*z**2*(1-0.5*z)*(z-0.5))\n",
        "# Digite o número de polos da função: 3\n",
        "# Digite o valor do polo 1: 0+0j\n",
        "# Digite o valor da ordem do polo 1: 2\n",
        "# Digite o valor do polo 2: 2+0j\n",
        "# Digite o valor da ordem do polo 2: 1\n",
        "# Digite o valor do polo 3: 0.5+0j\n",
        "# Digite o valor da ordem do polo 3: 1\n",
        "# Digite o valor do raio de C: 1\n",
        "# Digite o valor do centro de C: 0+0j\n",
        "# O valor da integral é: I = 2.09439510239319"
      ],
      "metadata": {
        "id": "Kjn_Xqu8eR_b"
      },
      "execution_count": null,
      "outputs": []
    }
  ]
}